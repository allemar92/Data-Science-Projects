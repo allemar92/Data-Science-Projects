{
 "cells": [
  {
   "cell_type": "markdown",
   "metadata": {},
   "source": [
    "# AVOCADO : ORGANIC OR NOT?"
   ]
  },
  {
   "cell_type": "markdown",
   "metadata": {},
   "source": [
    "Problem: using a Kaggle Database on Avocado I want to choose a model that can classify the type of an Avocado between \"organic\", and \"conventional\"."
   ]
  },
  {
   "cell_type": "code",
   "execution_count": 2,
   "metadata": {},
   "outputs": [],
   "source": [
    "#importing needed libraries\n",
    "import pandas as pd\n",
    "import numpy as np\n",
    "import matplotlib.pyplot as plt\n",
    "import seaborn as sns\n",
    "%matplotlib inline\n",
    "#\n",
    "from sklearn.preprocessing import StandardScaler\n",
    "from sklearn.model_selection import train_test_split\n",
    "from sklearn.linear_model import LogisticRegression\n",
    "#\n",
    "from sklearn import metrics\n",
    "from sklearn.metrics import classification_report, confusion_matrix\n",
    "from sklearn.metrics import jaccard_similarity_score\n",
    "#\n",
    "from sklearn.neighbors import KNeighborsClassifier\n",
    "#\n",
    "from sklearn import svm\n",
    "#\n",
    "from sklearn.tree import DecisionTreeClassifier\n",
    "#\n",
    "import warnings\n",
    "warnings.filterwarnings(\"ignore\")"
   ]
  },
  {
   "cell_type": "code",
   "execution_count": 3,
   "metadata": {},
   "outputs": [
    {
     "data": {
      "text/html": [
       "<div>\n",
       "<style scoped>\n",
       "    .dataframe tbody tr th:only-of-type {\n",
       "        vertical-align: middle;\n",
       "    }\n",
       "\n",
       "    .dataframe tbody tr th {\n",
       "        vertical-align: top;\n",
       "    }\n",
       "\n",
       "    .dataframe thead th {\n",
       "        text-align: right;\n",
       "    }\n",
       "</style>\n",
       "<table border=\"1\" class=\"dataframe\">\n",
       "  <thead>\n",
       "    <tr style=\"text-align: right;\">\n",
       "      <th></th>\n",
       "      <th>Unnamed: 0</th>\n",
       "      <th>Date</th>\n",
       "      <th>AveragePrice</th>\n",
       "      <th>Total Volume</th>\n",
       "      <th>4046</th>\n",
       "      <th>4225</th>\n",
       "      <th>4770</th>\n",
       "      <th>Total Bags</th>\n",
       "      <th>Small Bags</th>\n",
       "      <th>Large Bags</th>\n",
       "      <th>XLarge Bags</th>\n",
       "      <th>type</th>\n",
       "      <th>year</th>\n",
       "      <th>region</th>\n",
       "    </tr>\n",
       "  </thead>\n",
       "  <tbody>\n",
       "    <tr>\n",
       "      <th>0</th>\n",
       "      <td>0</td>\n",
       "      <td>2015-12-27</td>\n",
       "      <td>1.33</td>\n",
       "      <td>64236.62</td>\n",
       "      <td>1036.74</td>\n",
       "      <td>54454.85</td>\n",
       "      <td>48.16</td>\n",
       "      <td>8696.87</td>\n",
       "      <td>8603.62</td>\n",
       "      <td>93.25</td>\n",
       "      <td>0.0</td>\n",
       "      <td>conventional</td>\n",
       "      <td>2015</td>\n",
       "      <td>Albany</td>\n",
       "    </tr>\n",
       "    <tr>\n",
       "      <th>1</th>\n",
       "      <td>1</td>\n",
       "      <td>2015-12-20</td>\n",
       "      <td>1.35</td>\n",
       "      <td>54876.98</td>\n",
       "      <td>674.28</td>\n",
       "      <td>44638.81</td>\n",
       "      <td>58.33</td>\n",
       "      <td>9505.56</td>\n",
       "      <td>9408.07</td>\n",
       "      <td>97.49</td>\n",
       "      <td>0.0</td>\n",
       "      <td>conventional</td>\n",
       "      <td>2015</td>\n",
       "      <td>Albany</td>\n",
       "    </tr>\n",
       "    <tr>\n",
       "      <th>2</th>\n",
       "      <td>2</td>\n",
       "      <td>2015-12-13</td>\n",
       "      <td>0.93</td>\n",
       "      <td>118220.22</td>\n",
       "      <td>794.70</td>\n",
       "      <td>109149.67</td>\n",
       "      <td>130.50</td>\n",
       "      <td>8145.35</td>\n",
       "      <td>8042.21</td>\n",
       "      <td>103.14</td>\n",
       "      <td>0.0</td>\n",
       "      <td>conventional</td>\n",
       "      <td>2015</td>\n",
       "      <td>Albany</td>\n",
       "    </tr>\n",
       "    <tr>\n",
       "      <th>3</th>\n",
       "      <td>3</td>\n",
       "      <td>2015-12-06</td>\n",
       "      <td>1.08</td>\n",
       "      <td>78992.15</td>\n",
       "      <td>1132.00</td>\n",
       "      <td>71976.41</td>\n",
       "      <td>72.58</td>\n",
       "      <td>5811.16</td>\n",
       "      <td>5677.40</td>\n",
       "      <td>133.76</td>\n",
       "      <td>0.0</td>\n",
       "      <td>conventional</td>\n",
       "      <td>2015</td>\n",
       "      <td>Albany</td>\n",
       "    </tr>\n",
       "    <tr>\n",
       "      <th>4</th>\n",
       "      <td>4</td>\n",
       "      <td>2015-11-29</td>\n",
       "      <td>1.28</td>\n",
       "      <td>51039.60</td>\n",
       "      <td>941.48</td>\n",
       "      <td>43838.39</td>\n",
       "      <td>75.78</td>\n",
       "      <td>6183.95</td>\n",
       "      <td>5986.26</td>\n",
       "      <td>197.69</td>\n",
       "      <td>0.0</td>\n",
       "      <td>conventional</td>\n",
       "      <td>2015</td>\n",
       "      <td>Albany</td>\n",
       "    </tr>\n",
       "    <tr>\n",
       "      <th>5</th>\n",
       "      <td>5</td>\n",
       "      <td>2015-11-22</td>\n",
       "      <td>1.26</td>\n",
       "      <td>55979.78</td>\n",
       "      <td>1184.27</td>\n",
       "      <td>48067.99</td>\n",
       "      <td>43.61</td>\n",
       "      <td>6683.91</td>\n",
       "      <td>6556.47</td>\n",
       "      <td>127.44</td>\n",
       "      <td>0.0</td>\n",
       "      <td>conventional</td>\n",
       "      <td>2015</td>\n",
       "      <td>Albany</td>\n",
       "    </tr>\n",
       "    <tr>\n",
       "      <th>6</th>\n",
       "      <td>6</td>\n",
       "      <td>2015-11-15</td>\n",
       "      <td>0.99</td>\n",
       "      <td>83453.76</td>\n",
       "      <td>1368.92</td>\n",
       "      <td>73672.72</td>\n",
       "      <td>93.26</td>\n",
       "      <td>8318.86</td>\n",
       "      <td>8196.81</td>\n",
       "      <td>122.05</td>\n",
       "      <td>0.0</td>\n",
       "      <td>conventional</td>\n",
       "      <td>2015</td>\n",
       "      <td>Albany</td>\n",
       "    </tr>\n",
       "    <tr>\n",
       "      <th>7</th>\n",
       "      <td>7</td>\n",
       "      <td>2015-11-08</td>\n",
       "      <td>0.98</td>\n",
       "      <td>109428.33</td>\n",
       "      <td>703.75</td>\n",
       "      <td>101815.36</td>\n",
       "      <td>80.00</td>\n",
       "      <td>6829.22</td>\n",
       "      <td>6266.85</td>\n",
       "      <td>562.37</td>\n",
       "      <td>0.0</td>\n",
       "      <td>conventional</td>\n",
       "      <td>2015</td>\n",
       "      <td>Albany</td>\n",
       "    </tr>\n",
       "    <tr>\n",
       "      <th>8</th>\n",
       "      <td>8</td>\n",
       "      <td>2015-11-01</td>\n",
       "      <td>1.02</td>\n",
       "      <td>99811.42</td>\n",
       "      <td>1022.15</td>\n",
       "      <td>87315.57</td>\n",
       "      <td>85.34</td>\n",
       "      <td>11388.36</td>\n",
       "      <td>11104.53</td>\n",
       "      <td>283.83</td>\n",
       "      <td>0.0</td>\n",
       "      <td>conventional</td>\n",
       "      <td>2015</td>\n",
       "      <td>Albany</td>\n",
       "    </tr>\n",
       "    <tr>\n",
       "      <th>9</th>\n",
       "      <td>9</td>\n",
       "      <td>2015-10-25</td>\n",
       "      <td>1.07</td>\n",
       "      <td>74338.76</td>\n",
       "      <td>842.40</td>\n",
       "      <td>64757.44</td>\n",
       "      <td>113.00</td>\n",
       "      <td>8625.92</td>\n",
       "      <td>8061.47</td>\n",
       "      <td>564.45</td>\n",
       "      <td>0.0</td>\n",
       "      <td>conventional</td>\n",
       "      <td>2015</td>\n",
       "      <td>Albany</td>\n",
       "    </tr>\n",
       "  </tbody>\n",
       "</table>\n",
       "</div>"
      ],
      "text/plain": [
       "   Unnamed: 0        Date  AveragePrice  Total Volume     4046       4225  \\\n",
       "0           0  2015-12-27          1.33      64236.62  1036.74   54454.85   \n",
       "1           1  2015-12-20          1.35      54876.98   674.28   44638.81   \n",
       "2           2  2015-12-13          0.93     118220.22   794.70  109149.67   \n",
       "3           3  2015-12-06          1.08      78992.15  1132.00   71976.41   \n",
       "4           4  2015-11-29          1.28      51039.60   941.48   43838.39   \n",
       "5           5  2015-11-22          1.26      55979.78  1184.27   48067.99   \n",
       "6           6  2015-11-15          0.99      83453.76  1368.92   73672.72   \n",
       "7           7  2015-11-08          0.98     109428.33   703.75  101815.36   \n",
       "8           8  2015-11-01          1.02      99811.42  1022.15   87315.57   \n",
       "9           9  2015-10-25          1.07      74338.76   842.40   64757.44   \n",
       "\n",
       "     4770  Total Bags  Small Bags  Large Bags  XLarge Bags          type  \\\n",
       "0   48.16     8696.87     8603.62       93.25          0.0  conventional   \n",
       "1   58.33     9505.56     9408.07       97.49          0.0  conventional   \n",
       "2  130.50     8145.35     8042.21      103.14          0.0  conventional   \n",
       "3   72.58     5811.16     5677.40      133.76          0.0  conventional   \n",
       "4   75.78     6183.95     5986.26      197.69          0.0  conventional   \n",
       "5   43.61     6683.91     6556.47      127.44          0.0  conventional   \n",
       "6   93.26     8318.86     8196.81      122.05          0.0  conventional   \n",
       "7   80.00     6829.22     6266.85      562.37          0.0  conventional   \n",
       "8   85.34    11388.36    11104.53      283.83          0.0  conventional   \n",
       "9  113.00     8625.92     8061.47      564.45          0.0  conventional   \n",
       "\n",
       "   year  region  \n",
       "0  2015  Albany  \n",
       "1  2015  Albany  \n",
       "2  2015  Albany  \n",
       "3  2015  Albany  \n",
       "4  2015  Albany  \n",
       "5  2015  Albany  \n",
       "6  2015  Albany  \n",
       "7  2015  Albany  \n",
       "8  2015  Albany  \n",
       "9  2015  Albany  "
      ]
     },
     "execution_count": 3,
     "metadata": {},
     "output_type": "execute_result"
    }
   ],
   "source": [
    "#importing the database and showing the firts 10 rows of the dataframe\n",
    "df_avo = pd.read_csv('avocado.csv')\n",
    "df_avo.head(10)"
   ]
  },
  {
   "cell_type": "code",
   "execution_count": 4,
   "metadata": {},
   "outputs": [],
   "source": [
    "#dropping useless columns\n",
    "df_avo = df_avo.drop(['Unnamed: 0'], axis=1)"
   ]
  },
  {
   "cell_type": "code",
   "execution_count": 5,
   "metadata": {},
   "outputs": [],
   "source": [
    "#changing columns names\n",
    "df_avo.rename(columns={'4046': 'Small Hass Volume', '4225':'Large Hass Volume','4770':'Extra Large Hass Volume'}, inplace=True)"
   ]
  },
  {
   "cell_type": "code",
   "execution_count": 6,
   "metadata": {},
   "outputs": [],
   "source": [
    "#converting datatypes\n",
    "df_avo['Date'] = pd.to_datetime(df_avo['Date'])"
   ]
  },
  {
   "cell_type": "code",
   "execution_count": 7,
   "metadata": {},
   "outputs": [
    {
     "name": "stdout",
     "output_type": "stream",
     "text": [
      "Date\n",
      "False    18249\n",
      "Name: Date, dtype: int64\n",
      "\n",
      "AveragePrice\n",
      "False    18249\n",
      "Name: AveragePrice, dtype: int64\n",
      "\n",
      "Total Volume\n",
      "False    18249\n",
      "Name: Total Volume, dtype: int64\n",
      "\n",
      "Small Hass Volume\n",
      "False    18249\n",
      "Name: Small Hass Volume, dtype: int64\n",
      "\n",
      "Large Hass Volume\n",
      "False    18249\n",
      "Name: Large Hass Volume, dtype: int64\n",
      "\n",
      "Extra Large Hass Volume\n",
      "False    18249\n",
      "Name: Extra Large Hass Volume, dtype: int64\n",
      "\n",
      "Total Bags\n",
      "False    18249\n",
      "Name: Total Bags, dtype: int64\n",
      "\n",
      "Small Bags\n",
      "False    18249\n",
      "Name: Small Bags, dtype: int64\n",
      "\n",
      "Large Bags\n",
      "False    18249\n",
      "Name: Large Bags, dtype: int64\n",
      "\n",
      "XLarge Bags\n",
      "False    18249\n",
      "Name: XLarge Bags, dtype: int64\n",
      "\n",
      "type\n",
      "False    18249\n",
      "Name: type, dtype: int64\n",
      "\n",
      "year\n",
      "False    18249\n",
      "Name: year, dtype: int64\n",
      "\n",
      "region\n",
      "False    18249\n",
      "Name: region, dtype: int64\n",
      "\n"
     ]
    }
   ],
   "source": [
    "#checking to see if there is any missing value in the data\n",
    "missing_data = df_avo.isnull()\n",
    "for column in missing_data.columns.values.tolist():\n",
    "    print(column)\n",
    "    print(missing_data[column].value_counts())\n",
    "    print('')"
   ]
  },
  {
   "cell_type": "code",
   "execution_count": 8,
   "metadata": {},
   "outputs": [
    {
     "data": {
      "text/html": [
       "<div>\n",
       "<style scoped>\n",
       "    .dataframe tbody tr th:only-of-type {\n",
       "        vertical-align: middle;\n",
       "    }\n",
       "\n",
       "    .dataframe tbody tr th {\n",
       "        vertical-align: top;\n",
       "    }\n",
       "\n",
       "    .dataframe thead th {\n",
       "        text-align: right;\n",
       "    }\n",
       "</style>\n",
       "<table border=\"1\" class=\"dataframe\">\n",
       "  <thead>\n",
       "    <tr style=\"text-align: right;\">\n",
       "      <th></th>\n",
       "      <th>count</th>\n",
       "      <th>mean</th>\n",
       "      <th>std</th>\n",
       "      <th>min</th>\n",
       "      <th>25%</th>\n",
       "      <th>50%</th>\n",
       "      <th>75%</th>\n",
       "      <th>max</th>\n",
       "    </tr>\n",
       "  </thead>\n",
       "  <tbody>\n",
       "    <tr>\n",
       "      <th>AveragePrice</th>\n",
       "      <td>18249.0</td>\n",
       "      <td>1.405978</td>\n",
       "      <td>4.026766e-01</td>\n",
       "      <td>0.44</td>\n",
       "      <td>1.10</td>\n",
       "      <td>1.37</td>\n",
       "      <td>1.66</td>\n",
       "      <td>3.25</td>\n",
       "    </tr>\n",
       "    <tr>\n",
       "      <th>Total Volume</th>\n",
       "      <td>18249.0</td>\n",
       "      <td>850644.013009</td>\n",
       "      <td>3.453545e+06</td>\n",
       "      <td>84.56</td>\n",
       "      <td>10838.58</td>\n",
       "      <td>107376.76</td>\n",
       "      <td>432962.29</td>\n",
       "      <td>62505646.52</td>\n",
       "    </tr>\n",
       "    <tr>\n",
       "      <th>Small Hass Volume</th>\n",
       "      <td>18249.0</td>\n",
       "      <td>293008.424531</td>\n",
       "      <td>1.264989e+06</td>\n",
       "      <td>0.00</td>\n",
       "      <td>854.07</td>\n",
       "      <td>8645.30</td>\n",
       "      <td>111020.20</td>\n",
       "      <td>22743616.17</td>\n",
       "    </tr>\n",
       "    <tr>\n",
       "      <th>Large Hass Volume</th>\n",
       "      <td>18249.0</td>\n",
       "      <td>295154.568356</td>\n",
       "      <td>1.204120e+06</td>\n",
       "      <td>0.00</td>\n",
       "      <td>3008.78</td>\n",
       "      <td>29061.02</td>\n",
       "      <td>150206.86</td>\n",
       "      <td>20470572.61</td>\n",
       "    </tr>\n",
       "    <tr>\n",
       "      <th>Extra Large Hass Volume</th>\n",
       "      <td>18249.0</td>\n",
       "      <td>22839.735993</td>\n",
       "      <td>1.074641e+05</td>\n",
       "      <td>0.00</td>\n",
       "      <td>0.00</td>\n",
       "      <td>184.99</td>\n",
       "      <td>6243.42</td>\n",
       "      <td>2546439.11</td>\n",
       "    </tr>\n",
       "    <tr>\n",
       "      <th>Total Bags</th>\n",
       "      <td>18249.0</td>\n",
       "      <td>239639.202060</td>\n",
       "      <td>9.862424e+05</td>\n",
       "      <td>0.00</td>\n",
       "      <td>5088.64</td>\n",
       "      <td>39743.83</td>\n",
       "      <td>110783.37</td>\n",
       "      <td>19373134.37</td>\n",
       "    </tr>\n",
       "    <tr>\n",
       "      <th>Small Bags</th>\n",
       "      <td>18249.0</td>\n",
       "      <td>182194.686696</td>\n",
       "      <td>7.461785e+05</td>\n",
       "      <td>0.00</td>\n",
       "      <td>2849.42</td>\n",
       "      <td>26362.82</td>\n",
       "      <td>83337.67</td>\n",
       "      <td>13384586.80</td>\n",
       "    </tr>\n",
       "    <tr>\n",
       "      <th>Large Bags</th>\n",
       "      <td>18249.0</td>\n",
       "      <td>54338.088145</td>\n",
       "      <td>2.439660e+05</td>\n",
       "      <td>0.00</td>\n",
       "      <td>127.47</td>\n",
       "      <td>2647.71</td>\n",
       "      <td>22029.25</td>\n",
       "      <td>5719096.61</td>\n",
       "    </tr>\n",
       "    <tr>\n",
       "      <th>XLarge Bags</th>\n",
       "      <td>18249.0</td>\n",
       "      <td>3106.426507</td>\n",
       "      <td>1.769289e+04</td>\n",
       "      <td>0.00</td>\n",
       "      <td>0.00</td>\n",
       "      <td>0.00</td>\n",
       "      <td>132.50</td>\n",
       "      <td>551693.65</td>\n",
       "    </tr>\n",
       "    <tr>\n",
       "      <th>year</th>\n",
       "      <td>18249.0</td>\n",
       "      <td>2016.147899</td>\n",
       "      <td>9.399385e-01</td>\n",
       "      <td>2015.00</td>\n",
       "      <td>2015.00</td>\n",
       "      <td>2016.00</td>\n",
       "      <td>2017.00</td>\n",
       "      <td>2018.00</td>\n",
       "    </tr>\n",
       "  </tbody>\n",
       "</table>\n",
       "</div>"
      ],
      "text/plain": [
       "                           count           mean           std      min  \\\n",
       "AveragePrice             18249.0       1.405978  4.026766e-01     0.44   \n",
       "Total Volume             18249.0  850644.013009  3.453545e+06    84.56   \n",
       "Small Hass Volume        18249.0  293008.424531  1.264989e+06     0.00   \n",
       "Large Hass Volume        18249.0  295154.568356  1.204120e+06     0.00   \n",
       "Extra Large Hass Volume  18249.0   22839.735993  1.074641e+05     0.00   \n",
       "Total Bags               18249.0  239639.202060  9.862424e+05     0.00   \n",
       "Small Bags               18249.0  182194.686696  7.461785e+05     0.00   \n",
       "Large Bags               18249.0   54338.088145  2.439660e+05     0.00   \n",
       "XLarge Bags              18249.0    3106.426507  1.769289e+04     0.00   \n",
       "year                     18249.0    2016.147899  9.399385e-01  2015.00   \n",
       "\n",
       "                              25%        50%        75%          max  \n",
       "AveragePrice                 1.10       1.37       1.66         3.25  \n",
       "Total Volume             10838.58  107376.76  432962.29  62505646.52  \n",
       "Small Hass Volume          854.07    8645.30  111020.20  22743616.17  \n",
       "Large Hass Volume         3008.78   29061.02  150206.86  20470572.61  \n",
       "Extra Large Hass Volume      0.00     184.99    6243.42   2546439.11  \n",
       "Total Bags                5088.64   39743.83  110783.37  19373134.37  \n",
       "Small Bags                2849.42   26362.82   83337.67  13384586.80  \n",
       "Large Bags                 127.47    2647.71   22029.25   5719096.61  \n",
       "XLarge Bags                  0.00       0.00     132.50    551693.65  \n",
       "year                      2015.00    2016.00    2017.00      2018.00  "
      ]
     },
     "execution_count": 8,
     "metadata": {},
     "output_type": "execute_result"
    }
   ],
   "source": [
    "#looking at basics statistical details \n",
    "df_avo.describe().T"
   ]
  },
  {
   "cell_type": "code",
   "execution_count": 9,
   "metadata": {},
   "outputs": [
    {
     "data": {
      "image/png": "[encoded data removed]",
      "text/plain": [
       "<Figure size 432x288 with 1 Axes>"
      ]
     },
     "metadata": {
      "needs_background": "light"
     },
     "output_type": "display_data"
    }
   ],
   "source": [
    "#graphic rapresentation of the average price distribution\n",
    "df_avo['AveragePrice'].hist(bins=20)\n",
    "plt.show()"
   ]
  },
  {
   "cell_type": "code",
   "execution_count": 10,
   "metadata": {},
   "outputs": [
    {
     "name": "stdout",
     "output_type": "stream",
     "text": [
      "type\n",
      "conventional    9126\n",
      "organic         9123\n",
      "dtype: int64\n"
     ]
    }
   ],
   "source": [
    "#counting how many avocados of each type there are in the dataset\n",
    "print(df_avo.groupby('type').size())"
   ]
  },
  {
   "cell_type": "code",
   "execution_count": 11,
   "metadata": {},
   "outputs": [
    {
     "data": {
      "image/png": "[encoded data removed]",
      "text/plain": [
       "<Figure size 720x576 with 1 Axes>"
      ]
     },
     "metadata": {},
     "output_type": "display_data"
    }
   ],
   "source": [
    "#graphic representation of the volume of the two types\n",
    "df_avo.groupby('type')['Total Volume'].agg('sum').plot(kind='pie', figsize=(10,8), autopct='%1.1f%%')\n",
    "plt.title(\"Volume of organic and conventional Avocados sold\")\n",
    "plt.axis('equal')\n",
    "plt.show()"
   ]
  },
  {
   "cell_type": "code",
   "execution_count": 12,
   "metadata": {},
   "outputs": [
    {
     "data": {
      "image/png": "[encoded data removed]",
      "text/plain": [
       "<Figure size 720x720 with 1 Axes>"
      ]
     },
     "metadata": {
      "needs_background": "light"
     },
     "output_type": "display_data"
    }
   ],
   "source": [
    "#graphic comparison between the two types' price\n",
    "fig, ax=plt.subplots(figsize=(10,10))\n",
    "sns.boxplot(x='type', y='AveragePrice', data=df_avo,)\n",
    "plt.title('Price comparison between types', fontsize= 14 , color='red')\n",
    "plt.xlabel('Type', fontsize=12, color='blue')\n",
    "plt.ylabel('Avg Price',fontsize=10, color='blue')\n",
    "plt.show()"
   ]
  },
  {
   "cell_type": "code",
   "execution_count": 13,
   "metadata": {},
   "outputs": [],
   "source": [
    "#preparing the features for the model\n",
    "X = df_avo[['Total Volume', 'Small Hass Volume', 'Large Hass Volume',\n",
    "       'Extra Large Hass Volume', 'Total Bags', 'Small Bags', 'Large Bags',\n",
    "       'XLarge Bags','year', 'AveragePrice']].values.astype('float')\n",
    "Y = df_avo['type']\n"
   ]
  },
  {
   "cell_type": "markdown",
   "metadata": {},
   "source": [
    "Now that the Database is ready I can start testing some classification models and see wich one is the more accurate.\n",
    "The classification model I am going to use are: a Logistic Regression model, a K Nearest Kneighbor model, a Support Vector Machine model and a Decision Tree model."
   ]
  },
  {
   "cell_type": "code",
   "execution_count": 14,
   "metadata": {},
   "outputs": [],
   "source": [
    "#normalizing the features\n",
    "SC = StandardScaler()\n",
    "X = SC.fit_transform(X)\n",
    "x_train, x_test, y_train, y_test = train_test_split(X, Y, test_size=0.3)\n"
   ]
  },
  {
   "cell_type": "code",
   "execution_count": 15,
   "metadata": {},
   "outputs": [],
   "source": [
    "#loading the model and predicting\n",
    "LR = LogisticRegression()\n",
    "LR.fit(x_train,y_train)\n",
    "yhat1=LR.predict(x_test)"
   ]
  },
  {
   "cell_type": "code",
   "execution_count": 16,
   "metadata": {},
   "outputs": [
    {
     "name": "stdout",
     "output_type": "stream",
     "text": [
      "classification report:\n",
      "               precision    recall  f1-score   support\n",
      "\n",
      "conventional       0.90      0.94      0.92      2606\n",
      "     organic       0.94      0.90      0.92      2869\n",
      "\n",
      "    accuracy                           0.92      5475\n",
      "   macro avg       0.92      0.92      0.92      5475\n",
      "weighted avg       0.92      0.92      0.92      5475\n",
      "\n",
      "confusion matrix:\n",
      " [[2443  163]\n",
      " [ 282 2587]]\n",
      "Jaccard Similarity Score:\n",
      " 0.9187214611872146\n"
     ]
    }
   ],
   "source": [
    "#valuation of the Logistic Regression model\n",
    "print('classification report:\\n',classification_report(yhat1, y_test))\n",
    "print('confusion matrix:\\n',  confusion_matrix(yhat1, y_test))\n",
    "print('Jaccard Similarity Score:\\n',jaccard_similarity_score(y_test, yhat1))"
   ]
  },
  {
   "cell_type": "code",
   "execution_count": 17,
   "metadata": {},
   "outputs": [
    {
     "data": {
      "text/plain": [
       "array(['conventional', 'organic', 'conventional', ..., 'conventional',\n",
       "       'conventional', 'organic'], dtype=object)"
      ]
     },
     "execution_count": 17,
     "metadata": {},
     "output_type": "execute_result"
    }
   ],
   "source": [
    "#loading the model and predicting\n",
    "neigh = KNeighborsClassifier(n_neighbors = 4).fit(x_train, y_train)\n",
    "yhat2= neigh.predict(x_test)\n",
    "yhat2"
   ]
  },
  {
   "cell_type": "code",
   "execution_count": 18,
   "metadata": {},
   "outputs": [
    {
     "name": "stdout",
     "output_type": "stream",
     "text": [
      "classification report:\n",
      "               precision    recall  f1-score   support\n",
      "\n",
      "conventional       0.97      0.96      0.97      2774\n",
      "     organic       0.96      0.97      0.97      2701\n",
      "\n",
      "    accuracy                           0.97      5475\n",
      "   macro avg       0.97      0.97      0.97      5475\n",
      "weighted avg       0.97      0.97      0.97      5475\n",
      "\n",
      "confusion matrix:\n",
      " [[2656  118]\n",
      " [  69 2632]]\n",
      "Jaccard Similarity Score:\n",
      " 0.9658447488584475\n"
     ]
    }
   ],
   "source": [
    "#K Nearest Kneighbors model accuracy\n",
    "print('classification report:\\n',classification_report(yhat2, y_test))\n",
    "print('confusion matrix:\\n',  confusion_matrix(yhat2, y_test))\n",
    "print('Jaccard Similarity Score:\\n',jaccard_similarity_score(y_test, yhat2))"
   ]
  },
  {
   "cell_type": "code",
   "execution_count": 19,
   "metadata": {},
   "outputs": [],
   "source": [
    "#loading the model and predicting\n",
    "clf = svm.SVC(kernel='rbf')\n",
    "clf.fit(x_train,y_train)\n",
    "yhat3 = clf.predict(x_test)"
   ]
  },
  {
   "cell_type": "code",
   "execution_count": 20,
   "metadata": {},
   "outputs": [
    {
     "name": "stdout",
     "output_type": "stream",
     "text": [
      "classification report:\n",
      "               precision    recall  f1-score   support\n",
      "\n",
      "conventional       0.89      0.96      0.93      2541\n",
      "     organic       0.96      0.90      0.93      2934\n",
      "\n",
      "    accuracy                           0.93      5475\n",
      "   macro avg       0.93      0.93      0.93      5475\n",
      "weighted avg       0.93      0.93      0.93      5475\n",
      "\n",
      "confusion matrix:\n",
      " [[2438  103]\n",
      " [ 287 2647]]\n",
      "Jaccard Similarity Score:\n",
      " 0.9287671232876712\n"
     ]
    }
   ],
   "source": [
    "#Support Vector Machine model accuracy\n",
    "print('classification report:\\n',classification_report(yhat3, y_test))\n",
    "print('confusion matrix:\\n',  confusion_matrix(yhat3, y_test))\n",
    "print('Jaccard Similarity Score:\\n',jaccard_similarity_score(y_test, yhat3))"
   ]
  },
  {
   "cell_type": "code",
   "execution_count": 21,
   "metadata": {},
   "outputs": [],
   "source": [
    "##loading the model and predicting\n",
    "avotree = DecisionTreeClassifier(criterion='entropy', max_depth=4)\n",
    "avotree.fit(x_train,y_train)\n",
    "yhat4 = avotree.predict(x_test)"
   ]
  },
  {
   "cell_type": "code",
   "execution_count": 22,
   "metadata": {},
   "outputs": [
    {
     "name": "stdout",
     "output_type": "stream",
     "text": [
      "classification report:\n",
      "               precision    recall  f1-score   support\n",
      "\n",
      "conventional       0.94      0.96      0.95      2677\n",
      "     organic       0.96      0.94      0.95      2798\n",
      "\n",
      "    accuracy                           0.95      5475\n",
      "   macro avg       0.95      0.95      0.95      5475\n",
      "weighted avg       0.95      0.95      0.95      5475\n",
      "\n",
      "confusion matrix:\n",
      " [[2571  106]\n",
      " [ 154 2644]]\n",
      "Jaccard Similarity Score:\n",
      " 0.9525114155251142\n"
     ]
    }
   ],
   "source": [
    "#Decision Tree model accuracy\n",
    "print('classification report:\\n',classification_report(yhat4, y_test))\n",
    "print('confusion matrix:\\n',  confusion_matrix(yhat4, y_test))\n",
    "print('Jaccard Similarity Score:\\n',jaccard_similarity_score(y_test, yhat4))"
   ]
  },
  {
   "cell_type": "code",
   "execution_count": 30,
   "metadata": {},
   "outputs": [
    {
     "data": {
      "image/png": "[encoded data removed]",
      "text/plain": [
       "<Figure size 720x576 with 1 Axes>"
      ]
     },
     "metadata": {
      "needs_background": "light"
     },
     "output_type": "display_data"
    }
   ],
   "source": [
    "#comparing the Accuracy\n",
    "names=['LR', 'KNN', 'SVM', 'TREE']\n",
    "accuracy=[]\n",
    "accuracy.append(metrics.accuracy_score(y_test, yhat1))\n",
    "accuracy.append(metrics.accuracy_score(y_test, yhat2))\n",
    "accuracy.append(metrics.accuracy_score(y_test, yhat3))\n",
    "accuracy.append(metrics.accuracy_score(y_test, yhat4))\n",
    "\n",
    "fig, ax = plt.subplots(figsize=(10,8))\n",
    "sns.barplot(x=names, y=accuracy, palette='BuGn_r')\n",
    "plt.xlabel('Models', fontsize=14, color='red')\n",
    "plt.ylabel(\"Model's Accuracy\", fontsize=14, color='red')\n",
    "plt.title(\"Accuracy's Comparison\", fontsize=18, color='blue')\n",
    "plt.show()"
   ]
  },
  {
   "cell_type": "markdown",
   "metadata": {},
   "source": [
    "The model with the best accuracy seems to be the K Nearest Kneighbor method, with an accuracy of the 0,97%."
   ]
  }
 ],
 "metadata": {
  "kernelspec": {
   "display_name": "Python 3",
   "language": "python",
   "name": "python3"
  },
  "language_info": {
   "codemirror_mode": {
    "name": "ipython",
    "version": 3
   },
   "file_extension": ".py",
   "mimetype": "text/x-python",
   "name": "python",
   "nbconvert_exporter": "python",
   "pygments_lexer": "ipython3",
   "version": "3.7.1"
  }
 },
 "nbformat": 4,
 "nbformat_minor": 4
}
