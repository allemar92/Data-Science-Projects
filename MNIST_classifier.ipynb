{
  "nbformat": 4,
  "nbformat_minor": 0,
  "metadata": {
    "colab": {
      "name": "MNIST_classifier.ipynb",
      "provenance": [],
      "authorship_tag": "ABX9TyMeGtk6xLtM9hgxsjaZo9B4",
      "include_colab_link": true
    },
    "kernelspec": {
      "name": "python3",
      "display_name": "Python 3"
    },
    "language_info": {
      "name": "python"
    },
    "accelerator": "GPU"
  },
  "cells": [
    {
      "cell_type": "markdown",
      "metadata": {
        "id": "view-in-github",
        "colab_type": "text"
      },
      "source": [
        "<a href=\"https://colab.research.google.com/github/allemar92/Data-Science-Projects/blob/master/MNIST_classifier.ipynb\" target=\"_parent\"><img src=\"https://colab.research.google.com/assets/colab-badge.svg\" alt=\"Open In Colab\"/></a>"
      ]
    },
    {
      "cell_type": "code",
      "metadata": {
        "colab": {
          "base_uri": "https://localhost:8080/"
        },
        "id": "bT1xaNG5_zSB",
        "outputId": "4bb83e71-8b91-4a89-ead6-b2be6e85170e"
      },
      "source": [
        "!pip install -Uqq fastbook\n",
        "import fastbook\n",
        "fastbook.setup_book()"
      ],
      "execution_count": 1,
      "outputs": [
        {
          "output_type": "stream",
          "text": [
            "\u001b[K     |████████████████████████████████| 727kB 7.7MB/s \n",
            "\u001b[K     |████████████████████████████████| 51kB 7.3MB/s \n",
            "\u001b[K     |████████████████████████████████| 1.2MB 15.4MB/s \n",
            "\u001b[K     |████████████████████████████████| 194kB 36.8MB/s \n",
            "\u001b[K     |████████████████████████████████| 51kB 7.7MB/s \n",
            "\u001b[K     |████████████████████████████████| 61kB 9.0MB/s \n",
            "\u001b[K     |████████████████████████████████| 12.8MB 220kB/s \n",
            "\u001b[K     |████████████████████████████████| 776.8MB 24kB/s \n",
            "\u001b[31mERROR: torchtext 0.9.1 has requirement torch==1.8.1, but you'll have torch 1.7.1 which is incompatible.\u001b[0m\n",
            "\u001b[?25hMounted at /content/gdrive\n"
          ],
          "name": "stdout"
        }
      ]
    },
    {
      "cell_type": "code",
      "metadata": {
        "id": "vBMYXw5oAB9h"
      },
      "source": [
        "from fastai.vision.all import * \n",
        "from fastbook import *\n",
        "matplotlib.rc('image', cmap='Greys')"
      ],
      "execution_count": 2,
      "outputs": []
    },
    {
      "cell_type": "code",
      "metadata": {
        "id": "wfgr3lsABGYr"
      },
      "source": [
        "path = untar_data(URLs.MNIST)"
      ],
      "execution_count": 87,
      "outputs": []
    },
    {
      "cell_type": "code",
      "metadata": {
        "id": "LWwW5ggKBROe"
      },
      "source": [
        "Path.BASE_PATH = path"
      ],
      "execution_count": 88,
      "outputs": []
    },
    {
      "cell_type": "code",
      "metadata": {
        "colab": {
          "base_uri": "https://localhost:8080/"
        },
        "id": "K1Oqc8LlBTVo",
        "outputId": "da9a0538-9613-4aa9-87fd-e0fc57e4b2d5"
      },
      "source": [
        "path.ls()"
      ],
      "execution_count": 89,
      "outputs": [
        {
          "output_type": "execute_result",
          "data": {
            "text/plain": [
              "(#2) [Path('training'),Path('testing')]"
            ]
          },
          "metadata": {
            "tags": []
          },
          "execution_count": 89
        }
      ]
    },
    {
      "cell_type": "code",
      "metadata": {
        "id": "oMJ6g8AM55QY"
      },
      "source": [
        "train_set = path/'training'\n",
        "test_set = path/'testing'"
      ],
      "execution_count": 90,
      "outputs": []
    },
    {
      "cell_type": "code",
      "metadata": {
        "id": "FzFZqOy66rIG"
      },
      "source": [
        "train_x = get_image_files(train_set).sorted()"
      ],
      "execution_count": 91,
      "outputs": []
    },
    {
      "cell_type": "code",
      "metadata": {
        "id": "5Pmjhbul6rBn"
      },
      "source": [
        "train_x = [tensor(Image.open(o)) for o in train_x]"
      ],
      "execution_count": 92,
      "outputs": []
    },
    {
      "cell_type": "code",
      "metadata": {
        "id": "gdWkO_336q_D"
      },
      "source": [
        "train_x = torch.stack(train_x).float()/255"
      ],
      "execution_count": 93,
      "outputs": []
    },
    {
      "cell_type": "code",
      "metadata": {
        "id": "iu3yFox0nWho"
      },
      "source": [
        "train_x = train_x.view(-1, 28*28)"
      ],
      "execution_count": 94,
      "outputs": []
    },
    {
      "cell_type": "code",
      "metadata": {
        "id": "vzo6xH1R6rEj"
      },
      "source": [
        "\n",
        "train_y = [int(i.parent.name)for i in get_image_files(train_set).sorted()]"
      ],
      "execution_count": 95,
      "outputs": []
    },
    {
      "cell_type": "code",
      "metadata": {
        "id": "Sy9F2rtO6q3R"
      },
      "source": [
        "train_y = tensor(train_y)"
      ],
      "execution_count": 96,
      "outputs": []
    },
    {
      "cell_type": "code",
      "metadata": {
        "colab": {
          "base_uri": "https://localhost:8080/"
        },
        "id": "ev8GqAdV6qwb",
        "outputId": "441b71fc-92b7-401d-e47b-a59038228529"
      },
      "source": [
        "train_x.shape, train_y.shape"
      ],
      "execution_count": 97,
      "outputs": [
        {
          "output_type": "execute_result",
          "data": {
            "text/plain": [
              "(torch.Size([60000, 784]), torch.Size([60000]))"
            ]
          },
          "metadata": {
            "tags": []
          },
          "execution_count": 97
        }
      ]
    },
    {
      "cell_type": "code",
      "metadata": {
        "id": "_K9Bq7fL6qt_"
      },
      "source": [
        "dl = DataLoader(list(zip(train_x,train_y)), batch_size=256, shuffle=True)"
      ],
      "execution_count": 98,
      "outputs": []
    },
    {
      "cell_type": "code",
      "metadata": {
        "id": "cygm1Jy3GIcb"
      },
      "source": [
        "val_x = get_image_files(test_set).sorted()"
      ],
      "execution_count": 99,
      "outputs": []
    },
    {
      "cell_type": "code",
      "metadata": {
        "id": "6kP2-9K5kb-a"
      },
      "source": [
        "val_x = [tensor(Image.open(o)) for o in val_x]"
      ],
      "execution_count": 100,
      "outputs": []
    },
    {
      "cell_type": "code",
      "metadata": {
        "id": "tIWc1Hq8HLyq"
      },
      "source": [
        "val_y = [int(i.parent.name)for i in get_image_files(test_set).sorted()]"
      ],
      "execution_count": 101,
      "outputs": []
    },
    {
      "cell_type": "code",
      "metadata": {
        "id": "Vjr-VnuNHG32"
      },
      "source": [
        "val_x = torch.stack(val_x).float()/255"
      ],
      "execution_count": 102,
      "outputs": []
    },
    {
      "cell_type": "code",
      "metadata": {
        "id": "Y1kYsWVzodj1"
      },
      "source": [
        "val_x = val_x.view(-1, 28*28)"
      ],
      "execution_count": 103,
      "outputs": []
    },
    {
      "cell_type": "code",
      "metadata": {
        "id": "K7ic3S66HV0Q"
      },
      "source": [
        "val_y = tensor(val_y)"
      ],
      "execution_count": 104,
      "outputs": []
    },
    {
      "cell_type": "code",
      "metadata": {
        "colab": {
          "base_uri": "https://localhost:8080/"
        },
        "id": "27jjhEznmaba",
        "outputId": "5a142f1f-eaef-4f2d-8f78-49f04cda5791"
      },
      "source": [
        "val_x.shape, val_y.shape"
      ],
      "execution_count": 106,
      "outputs": [
        {
          "output_type": "execute_result",
          "data": {
            "text/plain": [
              "(torch.Size([10000, 784]), torch.Size([10000]))"
            ]
          },
          "metadata": {
            "tags": []
          },
          "execution_count": 106
        }
      ]
    },
    {
      "cell_type": "code",
      "metadata": {
        "id": "7nyI0U-dHjMK"
      },
      "source": [
        "dl_val = DataLoader(list(zip(val_x, val_y)), batch_size=256, shuffle=True)"
      ],
      "execution_count": 107,
      "outputs": []
    },
    {
      "cell_type": "code",
      "metadata": {
        "id": "iXR2v6hqHvBk"
      },
      "source": [
        "dls = DataLoaders(dl, dl_val)"
      ],
      "execution_count": 108,
      "outputs": []
    },
    {
      "cell_type": "code",
      "metadata": {
        "id": "90aGBNR6H0O5"
      },
      "source": [
        "simple_net = nn.Sequential(\n",
        "    nn.Linear(28*28,50),\n",
        "    nn.ReLU(),\n",
        "    nn.Linear(50,50),\n",
        "    nn.ReLU(),\n",
        "    nn.Linear(50,10)\n",
        ") "
      ],
      "execution_count": 109,
      "outputs": []
    },
    {
      "cell_type": "code",
      "metadata": {
        "id": "KY2rbwMUII2b"
      },
      "source": [
        "learner = Learner ( dls, simple_net, loss_func =nn.CrossEntropyLoss(), opt_func=SGD, metrics=accuracy, lr=0.001)"
      ],
      "execution_count": 110,
      "outputs": []
    },
    {
      "cell_type": "code",
      "metadata": {
        "colab": {
          "base_uri": "https://localhost:8080/",
          "height": 520
        },
        "id": "HP4poftaImNa",
        "outputId": "0cf6aa3f-99f7-4f69-dcc4-1a5adabb7012"
      },
      "source": [
        "learner.fit(15, 0.1)"
      ],
      "execution_count": 116,
      "outputs": [
        {
          "output_type": "display_data",
          "data": {
            "text/html": [
              "<table border=\"1\" class=\"dataframe\">\n",
              "  <thead>\n",
              "    <tr style=\"text-align: left;\">\n",
              "      <th>epoch</th>\n",
              "      <th>train_loss</th>\n",
              "      <th>valid_loss</th>\n",
              "      <th>accuracy</th>\n",
              "      <th>time</th>\n",
              "    </tr>\n",
              "  </thead>\n",
              "  <tbody>\n",
              "    <tr>\n",
              "      <td>0</td>\n",
              "      <td>0.107021</td>\n",
              "      <td>0.133861</td>\n",
              "      <td>0.959500</td>\n",
              "      <td>00:01</td>\n",
              "    </tr>\n",
              "    <tr>\n",
              "      <td>1</td>\n",
              "      <td>0.108773</td>\n",
              "      <td>0.120847</td>\n",
              "      <td>0.963000</td>\n",
              "      <td>00:01</td>\n",
              "    </tr>\n",
              "    <tr>\n",
              "      <td>2</td>\n",
              "      <td>0.096390</td>\n",
              "      <td>0.118495</td>\n",
              "      <td>0.964900</td>\n",
              "      <td>00:01</td>\n",
              "    </tr>\n",
              "    <tr>\n",
              "      <td>3</td>\n",
              "      <td>0.092835</td>\n",
              "      <td>0.114128</td>\n",
              "      <td>0.963500</td>\n",
              "      <td>00:01</td>\n",
              "    </tr>\n",
              "    <tr>\n",
              "      <td>4</td>\n",
              "      <td>0.087375</td>\n",
              "      <td>0.111780</td>\n",
              "      <td>0.966300</td>\n",
              "      <td>00:01</td>\n",
              "    </tr>\n",
              "    <tr>\n",
              "      <td>5</td>\n",
              "      <td>0.086249</td>\n",
              "      <td>0.101375</td>\n",
              "      <td>0.969300</td>\n",
              "      <td>00:01</td>\n",
              "    </tr>\n",
              "    <tr>\n",
              "      <td>6</td>\n",
              "      <td>0.079939</td>\n",
              "      <td>0.110057</td>\n",
              "      <td>0.966900</td>\n",
              "      <td>00:01</td>\n",
              "    </tr>\n",
              "    <tr>\n",
              "      <td>7</td>\n",
              "      <td>0.076385</td>\n",
              "      <td>0.103977</td>\n",
              "      <td>0.969200</td>\n",
              "      <td>00:01</td>\n",
              "    </tr>\n",
              "    <tr>\n",
              "      <td>8</td>\n",
              "      <td>0.075018</td>\n",
              "      <td>0.163660</td>\n",
              "      <td>0.949200</td>\n",
              "      <td>00:01</td>\n",
              "    </tr>\n",
              "    <tr>\n",
              "      <td>9</td>\n",
              "      <td>0.069214</td>\n",
              "      <td>0.102807</td>\n",
              "      <td>0.967400</td>\n",
              "      <td>00:01</td>\n",
              "    </tr>\n",
              "    <tr>\n",
              "      <td>10</td>\n",
              "      <td>0.072641</td>\n",
              "      <td>0.100717</td>\n",
              "      <td>0.967700</td>\n",
              "      <td>00:01</td>\n",
              "    </tr>\n",
              "    <tr>\n",
              "      <td>11</td>\n",
              "      <td>0.066225</td>\n",
              "      <td>0.093238</td>\n",
              "      <td>0.973000</td>\n",
              "      <td>00:01</td>\n",
              "    </tr>\n",
              "    <tr>\n",
              "      <td>12</td>\n",
              "      <td>0.057609</td>\n",
              "      <td>0.094307</td>\n",
              "      <td>0.971100</td>\n",
              "      <td>00:01</td>\n",
              "    </tr>\n",
              "    <tr>\n",
              "      <td>13</td>\n",
              "      <td>0.057952</td>\n",
              "      <td>0.095311</td>\n",
              "      <td>0.971900</td>\n",
              "      <td>00:01</td>\n",
              "    </tr>\n",
              "    <tr>\n",
              "      <td>14</td>\n",
              "      <td>0.057528</td>\n",
              "      <td>0.103250</td>\n",
              "      <td>0.968100</td>\n",
              "      <td>00:01</td>\n",
              "    </tr>\n",
              "  </tbody>\n",
              "</table>"
            ],
            "text/plain": [
              "<IPython.core.display.HTML object>"
            ]
          },
          "metadata": {
            "tags": []
          }
        }
      ]
    },
    {
      "cell_type": "code",
      "metadata": {
        "id": "2V2UkLiCo6eP"
      },
      "source": [
        ""
      ],
      "execution_count": null,
      "outputs": []
    }
  ]
}